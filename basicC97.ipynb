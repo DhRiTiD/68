{
  "nbformat": 4,
  "nbformat_minor": 0,
  "metadata": {
    "colab": {
      "provenance": [],
      "authorship_tag": "ABX9TyOg+SZMnlmk9bHkqeLU+QN2",
      "include_colab_link": true
    },
    "kernelspec": {
      "name": "python3",
      "display_name": "Python 3"
    },
    "language_info": {
      "name": "python"
    }
  },
  "cells": [
    {
      "cell_type": "markdown",
      "metadata": {
        "id": "view-in-github",
        "colab_type": "text"
      },
      "source": [
        "<a href=\"https://colab.research.google.com/github/DhRiTiD/68/blob/main/basicC97.ipynb\" target=\"_parent\"><img src=\"https://colab.research.google.com/assets/colab-badge.svg\" alt=\"Open In Colab\"/></a>"
      ]
    },
    {
      "cell_type": "markdown",
      "source": [
        "hii"
      ],
      "metadata": {
        "id": "qbqZ_iwjD1cC"
      }
    },
    {
      "cell_type": "code",
      "execution_count": 8,
      "metadata": {
        "colab": {
          "base_uri": "https://localhost:8080/"
        },
        "id": "QkDPTnwNDxxP",
        "outputId": "30a248ec-9a3f-4979-f280-83fca12fc2e1"
      },
      "outputs": [
        {
          "output_type": "stream",
          "name": "stdout",
          "text": [
            "HELLO\n",
            "hello dhriti\n",
            "HELLO DHRITI\n"
          ]
        }
      ],
      "source": [
        "print('HELLO')\n",
        "var1, var2, var3 = 'hello','dhriti' ,5\n",
        "print(var1, var2)\n",
        "print(var1)\n"
      ]
    }
  ]
}